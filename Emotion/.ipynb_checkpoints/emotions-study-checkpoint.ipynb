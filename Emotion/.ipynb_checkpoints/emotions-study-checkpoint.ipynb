{
 "cells": [
  {
   "cell_type": "code",
   "execution_count": 4,
   "metadata": {
    "_cell_guid": "b1076dfc-b9ad-4769-8c92-a6c4dae69d19",
    "_uuid": "8f2839f25d086af736a60e9eeb907d3b93b6e0e5",
    "execution": {
     "iopub.execute_input": "2022-05-21T08:19:44.131793Z",
     "iopub.status.busy": "2022-05-21T08:19:44.131490Z",
     "iopub.status.idle": "2022-05-21T08:19:44.144333Z",
     "shell.execute_reply": "2022-05-21T08:19:44.143484Z",
     "shell.execute_reply.started": "2022-05-21T08:19:44.131758Z"
    }
   },
   "outputs": [],
   "source": [
    "# This Python 3 environment comes with many helpful analytics libraries installed\n",
    "# It is defined by the kaggle/python Docker image: https://github.com/kaggle/docker-python\n",
    "# For example, here's several helpful packages to load\n",
    "\n",
    "import numpy as np # linear algebra\n",
    "import pandas as pd # data processing, CSV file I/O (e.g. pd.read_csv)\n",
    "\n",
    "# Input data files are available in the read-only \"../input/\" directory\n",
    "# For example, running this (by clicking run or pressing Shift+Enter) will list all files under the input directory\n",
    "\n",
    "import os\n",
    "for dirname, _, filenames in os.walk('/kaggle/input'):\n",
    "    for filename in filenames:\n",
    "        print(os.path.join(dirname, filename))\n",
    "\n",
    "# You can write up to 20GB to the current directory (/kaggle/working/) that gets preserved as output when you create a version using \"Save & Run All\" \n",
    "# You can also write temporary files to /kaggle/temp/, but they won't be saved outside of the current session"
   ]
  },
  {
   "cell_type": "code",
   "execution_count": 5,
   "metadata": {
    "execution": {
     "iopub.execute_input": "2022-05-21T08:19:46.289261Z",
     "iopub.status.busy": "2022-05-21T08:19:46.288200Z",
     "iopub.status.idle": "2022-05-21T08:19:46.901945Z",
     "shell.execute_reply": "2022-05-21T08:19:46.901263Z",
     "shell.execute_reply.started": "2022-05-21T08:19:46.289204Z"
    }
   },
   "outputs": [],
   "source": [
    "data = pd.read_csv('/kaggle/input/chatbot-dataset-topical-chat/topical_chat.csv')\n",
    "data"
   ]
  },
  {
   "cell_type": "code",
   "execution_count": 6,
   "metadata": {
    "execution": {
     "iopub.execute_input": "2022-05-21T08:19:50.450855Z",
     "iopub.status.busy": "2022-05-21T08:19:50.450051Z",
     "iopub.status.idle": "2022-05-21T08:19:50.470719Z",
     "shell.execute_reply": "2022-05-21T08:19:50.470097Z",
     "shell.execute_reply.started": "2022-05-21T08:19:50.450810Z"
    }
   },
   "outputs": [],
   "source": [
    "data[data.conversation_id == 1]"
   ]
  },
  {
   "cell_type": "code",
   "execution_count": 7,
   "metadata": {
    "execution": {
     "iopub.execute_input": "2022-05-21T08:19:53.564502Z",
     "iopub.status.busy": "2022-05-21T08:19:53.564153Z",
     "iopub.status.idle": "2022-05-21T08:19:53.575586Z",
     "shell.execute_reply": "2022-05-21T08:19:53.574869Z",
     "shell.execute_reply.started": "2022-05-21T08:19:53.564458Z"
    }
   },
   "outputs": [],
   "source": [
    "set(data.sentiment.values)"
   ]
  },
  {
   "cell_type": "code",
   "execution_count": 9,
   "metadata": {
    "execution": {
     "iopub.execute_input": "2022-05-21T08:19:58.830590Z",
     "iopub.status.busy": "2022-05-21T08:19:58.830278Z",
     "iopub.status.idle": "2022-05-21T08:19:58.835015Z",
     "shell.execute_reply": "2022-05-21T08:19:58.834010Z",
     "shell.execute_reply.started": "2022-05-21T08:19:58.830558Z"
    }
   },
   "outputs": [],
   "source": [
    "sent_as_code = {' Angry': -10,\n",
    " ' Curious to dive deeper': 5,\n",
    " ' Disgusted': -10,\n",
    " ' Fearful': -7,\n",
    " ' Happy': 10,\n",
    " ' Neutral': 0,\n",
    " ' Sad': -7,\n",
    " ' Surprised': 1}"
   ]
  },
  {
   "cell_type": "code",
   "execution_count": 10,
   "metadata": {
    "execution": {
     "iopub.execute_input": "2022-05-21T08:20:01.454479Z",
     "iopub.status.busy": "2022-05-21T08:20:01.453827Z",
     "iopub.status.idle": "2022-05-21T08:20:12.073661Z",
     "shell.execute_reply": "2022-05-21T08:20:12.072700Z",
     "shell.execute_reply.started": "2022-05-21T08:20:01.454413Z"
    }
   },
   "outputs": [],
   "source": [
    "d = {}\n",
    "for i in set(data.conversation_id.values):\n",
    "    if not i in d:\n",
    "        d[i] = []\n",
    "    counter = 0\n",
    "    for text, emotion in zip(data[data.conversation_id == i].message.values, data[data.conversation_id == i].sentiment.values):\n",
    "        d[i].append((text, sent_as_code[emotion], counter))\n",
    "        counter = 1 - counter"
   ]
  },
  {
   "cell_type": "code",
   "execution_count": 11,
   "metadata": {
    "execution": {
     "iopub.execute_input": "2022-05-21T08:20:16.210645Z",
     "iopub.status.busy": "2022-05-21T08:20:16.210343Z",
     "iopub.status.idle": "2022-05-21T08:20:16.217407Z",
     "shell.execute_reply": "2022-05-21T08:20:16.216759Z",
     "shell.execute_reply.started": "2022-05-21T08:20:16.210615Z"
    }
   },
   "outputs": [],
   "source": [
    "d[1]"
   ]
  },
  {
   "cell_type": "code",
   "execution_count": 12,
   "metadata": {
    "execution": {
     "iopub.execute_input": "2022-05-21T08:20:22.191831Z",
     "iopub.status.busy": "2022-05-21T08:20:22.191517Z",
     "iopub.status.idle": "2022-05-21T08:20:22.302626Z",
     "shell.execute_reply": "2022-05-21T08:20:22.301591Z",
     "shell.execute_reply.started": "2022-05-21T08:20:22.191788Z"
    }
   },
   "outputs": [],
   "source": [
    "emotion_changing_replies = {'query': [], 'reply': [], 'norm': []}\n",
    "\n",
    "for dialog_id in d:\n",
    "    for reply_num in range(2, len(d[dialog_id])):\n",
    "        initial_state = d[dialog_id][reply_num - 2]\n",
    "        reply = d[dialog_id][reply_num - 1]\n",
    "        current_state = d[dialog_id][reply_num]\n",
    "        if current_state[1] - initial_state[1] > 0:\n",
    "            emotion_changing_replies['query'].append(initial_state[0])\n",
    "            emotion_changing_replies['reply'].append(reply[0])\n",
    "            emotion_changing_replies['norm'].append(current_state[1] - initial_state[1])"
   ]
  },
  {
   "cell_type": "code",
   "execution_count": 53,
   "metadata": {
    "execution": {
     "iopub.execute_input": "2022-05-21T09:10:06.377901Z",
     "iopub.status.busy": "2022-05-21T09:10:06.377371Z",
     "iopub.status.idle": "2022-05-21T09:10:06.492670Z",
     "shell.execute_reply": "2022-05-21T09:10:06.491717Z",
     "shell.execute_reply.started": "2022-05-21T09:10:06.377865Z"
    }
   },
   "outputs": [],
   "source": [
    "emotion_spoiling_replies = {'query': [], 'reply': [], 'norm': []}\n",
    "\n",
    "for dialog_id in d:\n",
    "    for reply_num in range(2, len(d[dialog_id])):\n",
    "        initial_state = d[dialog_id][reply_num - 2]\n",
    "        reply = d[dialog_id][reply_num - 1]\n",
    "        current_state = d[dialog_id][reply_num]\n",
    "        if current_state[1] - initial_state[1] < 0:\n",
    "            emotion_spoiling_replies['query'].append(initial_state[0])\n",
    "            emotion_spoiling_replies['reply'].append(reply[0])\n",
    "            emotion_spoiling_replies['norm'].append(current_state[1] - initial_state[1])"
   ]
  },
  {
   "cell_type": "code",
   "execution_count": 13,
   "metadata": {
    "execution": {
     "iopub.execute_input": "2022-05-21T08:20:29.230755Z",
     "iopub.status.busy": "2022-05-21T08:20:29.230483Z",
     "iopub.status.idle": "2022-05-21T08:20:29.260373Z",
     "shell.execute_reply": "2022-05-21T08:20:29.259427Z",
     "shell.execute_reply.started": "2022-05-21T08:20:29.230727Z"
    }
   },
   "outputs": [],
   "source": [
    "happinness_creators = pd.DataFrame(emotion_changing_replies)\n",
    "happinness_creators"
   ]
  },
  {
   "cell_type": "code",
   "execution_count": 54,
   "metadata": {
    "execution": {
     "iopub.execute_input": "2022-05-21T09:10:23.449221Z",
     "iopub.status.busy": "2022-05-21T09:10:23.448892Z",
     "iopub.status.idle": "2022-05-21T09:10:23.481244Z",
     "shell.execute_reply": "2022-05-21T09:10:23.480420Z",
     "shell.execute_reply.started": "2022-05-21T09:10:23.449184Z"
    }
   },
   "outputs": [],
   "source": [
    "sadness_creators = pd.DataFrame(emotion_spoiling_replies)\n",
    "sadness_creators"
   ]
  },
  {
   "cell_type": "code",
   "execution_count": 40,
   "metadata": {
    "execution": {
     "iopub.execute_input": "2022-05-21T06:11:17.859804Z",
     "iopub.status.busy": "2022-05-21T06:11:17.859166Z",
     "iopub.status.idle": "2022-05-21T06:11:18.254274Z",
     "shell.execute_reply": "2022-05-21T06:11:18.253461Z",
     "shell.execute_reply.started": "2022-05-21T06:11:17.859766Z"
    }
   },
   "outputs": [],
   "source": [
    "happinness_creators.to_csv('happiness_provokers')"
   ]
  },
  {
   "cell_type": "code",
   "execution_count": 22,
   "metadata": {
    "execution": {
     "iopub.execute_input": "2022-05-21T08:23:52.351625Z",
     "iopub.status.busy": "2022-05-21T08:23:52.351288Z",
     "iopub.status.idle": "2022-05-21T08:23:52.365216Z",
     "shell.execute_reply": "2022-05-21T08:23:52.364580Z",
     "shell.execute_reply.started": "2022-05-21T08:23:52.351592Z"
    }
   },
   "outputs": [],
   "source": [
    "happinness_creators[happinness_creators.norm == 20]"
   ]
  },
  {
   "cell_type": "code",
   "execution_count": 26,
   "metadata": {
    "execution": {
     "iopub.execute_input": "2022-05-21T08:29:30.447747Z",
     "iopub.status.busy": "2022-05-21T08:29:30.447368Z",
     "iopub.status.idle": "2022-05-21T08:29:30.454424Z",
     "shell.execute_reply": "2022-05-21T08:29:30.453478Z",
     "shell.execute_reply.started": "2022-05-21T08:29:30.447710Z"
    }
   },
   "outputs": [],
   "source": [
    "super_answers = ' '.join(happinness_creators[happinness_creators.norm == 20].reply.tolist())"
   ]
  },
  {
   "cell_type": "code",
   "execution_count": 29,
   "metadata": {
    "execution": {
     "iopub.execute_input": "2022-05-21T08:30:25.501969Z",
     "iopub.status.busy": "2022-05-21T08:30:25.501522Z",
     "iopub.status.idle": "2022-05-21T08:30:25.515239Z",
     "shell.execute_reply": "2022-05-21T08:30:25.514165Z",
     "shell.execute_reply.started": "2022-05-21T08:30:25.501936Z"
    }
   },
   "outputs": [],
   "source": [
    "import re\n",
    "\n",
    "def clean_text(text):\n",
    "    text = text.lower()\n",
    "    text = re.sub(r'[^\\sа-яА-Яa-zA-Z0-9@\\[\\]]',' ',text) # Удаляет пунктцацию\n",
    "    text = re.sub(r'\\w*\\d+\\w*', '', text) # Удаляет цифры\n",
    "    text = re.sub('\\s{2,}', \" \", text) # Удаляет ненужные пробелы\n",
    "    text = text.replace('\\n', ' ')\n",
    "    return text\n",
    "clean_text(super_answers)[0:100]"
   ]
  },
  {
   "cell_type": "code",
   "execution_count": 35,
   "metadata": {
    "execution": {
     "iopub.execute_input": "2022-05-21T08:35:38.146796Z",
     "iopub.status.busy": "2022-05-21T08:35:38.146489Z",
     "iopub.status.idle": "2022-05-21T08:35:38.176543Z",
     "shell.execute_reply": "2022-05-21T08:35:38.175296Z",
     "shell.execute_reply.started": "2022-05-21T08:35:38.146764Z"
    }
   },
   "outputs": [],
   "source": [
    "from nltk.tokenize import sent_tokenize, word_tokenize\n",
    "\n",
    "data = clean_text(super_answers)\n",
    "words = word_tokenize(data)\n",
    "print(words[0:20])"
   ]
  },
  {
   "cell_type": "code",
   "execution_count": 50,
   "metadata": {
    "execution": {
     "iopub.execute_input": "2022-05-21T09:06:57.600321Z",
     "iopub.status.busy": "2022-05-21T09:06:57.599695Z",
     "iopub.status.idle": "2022-05-21T09:07:17.633440Z",
     "shell.execute_reply": "2022-05-21T09:07:17.632554Z",
     "shell.execute_reply.started": "2022-05-21T09:06:57.600270Z"
    }
   },
   "outputs": [],
   "source": [
    "import nltk\n",
    "from nltk.corpus import stopwords\n",
    "\n",
    "nltk.download('stopwords')\n",
    "stops = set(stopwords.words('english'))\n",
    "stops"
   ]
  },
  {
   "cell_type": "code",
   "execution_count": 39,
   "metadata": {
    "execution": {
     "iopub.execute_input": "2022-05-21T08:59:31.909946Z",
     "iopub.status.busy": "2022-05-21T08:59:31.909598Z",
     "iopub.status.idle": "2022-05-21T08:59:31.923588Z",
     "shell.execute_reply": "2022-05-21T08:59:31.922774Z",
     "shell.execute_reply.started": "2022-05-21T08:59:31.909911Z"
    }
   },
   "outputs": [],
   "source": [
    "from collections import Counter\n",
    "\n",
    "cnt = Counter(clean_text(super_answers).split())\n",
    "cnt.most_common()[0:10]"
   ]
  },
  {
   "cell_type": "code",
   "execution_count": 42,
   "metadata": {
    "execution": {
     "iopub.execute_input": "2022-05-21T09:03:26.862342Z",
     "iopub.status.busy": "2022-05-21T09:03:26.861855Z",
     "iopub.status.idle": "2022-05-21T09:03:26.875437Z",
     "shell.execute_reply": "2022-05-21T09:03:26.874841Z",
     "shell.execute_reply.started": "2022-05-21T09:03:26.862309Z"
    }
   },
   "outputs": [],
   "source": [
    "cnt_clean = Counter(list(filter(lambda el: el not in stops, clean_text(super_answers).split())))\n",
    "cnt_clean.most_common()[0:10]"
   ]
  },
  {
   "cell_type": "code",
   "execution_count": 45,
   "metadata": {
    "execution": {
     "iopub.execute_input": "2022-05-21T09:04:13.879563Z",
     "iopub.status.busy": "2022-05-21T09:04:13.878533Z",
     "iopub.status.idle": "2022-05-21T09:04:13.885963Z",
     "shell.execute_reply": "2022-05-21T09:04:13.884813Z",
     "shell.execute_reply.started": "2022-05-21T09:04:13.879515Z"
    }
   },
   "outputs": [],
   "source": [
    "top_happy_words = [word for word, _ in cnt_clean.most_common()[5:50]]\n",
    "top_happy_words[0:10]"
   ]
  },
  {
   "cell_type": "code",
   "execution_count": 47,
   "metadata": {
    "execution": {
     "iopub.execute_input": "2022-05-21T09:04:30.326175Z",
     "iopub.status.busy": "2022-05-21T09:04:30.325909Z",
     "iopub.status.idle": "2022-05-21T09:04:30.364915Z",
     "shell.execute_reply": "2022-05-21T09:04:30.364241Z",
     "shell.execute_reply.started": "2022-05-21T09:04:30.326146Z"
    }
   },
   "outputs": [],
   "source": [
    "from wordcloud import WordCloud\n",
    "import matplotlib.pyplot as plt\n",
    "%matplotlib inline"
   ]
  },
  {
   "cell_type": "code",
   "execution_count": 48,
   "metadata": {
    "execution": {
     "iopub.execute_input": "2022-05-21T09:04:32.889374Z",
     "iopub.status.busy": "2022-05-21T09:04:32.888502Z",
     "iopub.status.idle": "2022-05-21T09:04:33.127515Z",
     "shell.execute_reply": "2022-05-21T09:04:33.126454Z",
     "shell.execute_reply.started": "2022-05-21T09:04:32.889330Z"
    }
   },
   "outputs": [],
   "source": [
    "wordcloud = WordCloud().generate(' '.join(top_happy_words))\n",
    "plt.imshow(wordcloud, interpolation='bilinear')\n",
    "plt.axis(\"off\")\n",
    "plt.show()"
   ]
  },
  {
   "cell_type": "code",
   "execution_count": 52,
   "metadata": {
    "execution": {
     "iopub.execute_input": "2022-05-21T09:08:09.988902Z",
     "iopub.status.busy": "2022-05-21T09:08:09.988065Z",
     "iopub.status.idle": "2022-05-21T09:08:10.901379Z",
     "shell.execute_reply": "2022-05-21T09:08:10.900447Z",
     "shell.execute_reply.started": "2022-05-21T09:08:09.988860Z"
    }
   },
   "outputs": [],
   "source": [
    "not_bad_answers = ' '.join(happinness_creators[happinness_creators.norm <= 5].reply.tolist())\n",
    "cnt_clean1 = Counter(list(filter(lambda el: el not in stops, clean_text(not_bad_answers).split())))\n",
    "top_words = [word for word, _ in cnt_clean1.most_common()[5:50]]\n",
    "wordcloud1 = WordCloud().generate(' '.join(top_words))\n",
    "plt.imshow(wordcloud1, interpolation='bilinear')\n",
    "plt.axis(\"off\")\n",
    "plt.show()"
   ]
  },
  {
   "cell_type": "code",
   "execution_count": 58,
   "metadata": {
    "execution": {
     "iopub.execute_input": "2022-05-21T09:11:59.407018Z",
     "iopub.status.busy": "2022-05-21T09:11:59.406426Z",
     "iopub.status.idle": "2022-05-21T09:11:59.422074Z",
     "shell.execute_reply": "2022-05-21T09:11:59.421352Z",
     "shell.execute_reply.started": "2022-05-21T09:11:59.406954Z"
    }
   },
   "outputs": [],
   "source": [
    "sadness_creators[sadness_creators.norm == -20]"
   ]
  },
  {
   "cell_type": "code",
   "execution_count": 60,
   "metadata": {
    "execution": {
     "iopub.execute_input": "2022-05-21T09:16:09.037107Z",
     "iopub.status.busy": "2022-05-21T09:16:09.036361Z",
     "iopub.status.idle": "2022-05-21T09:16:09.285350Z",
     "shell.execute_reply": "2022-05-21T09:16:09.284445Z",
     "shell.execute_reply.started": "2022-05-21T09:16:09.037061Z"
    }
   },
   "outputs": [],
   "source": [
    "bad_answers = ' '.join(sadness_creators[sadness_creators.norm == -20].reply.tolist())\n",
    "cnt_clean2 = Counter(list(filter(lambda el: el not in stops, clean_text(bad_answers).split())))\n",
    "top_words2 = [word for word, _ in cnt_clean2.most_common()[5:50]]\n",
    "wordcloud2 = WordCloud().generate(' '.join(top_words2))\n",
    "plt.imshow(wordcloud2, interpolation='bilinear')\n",
    "plt.axis(\"off\")\n",
    "plt.show()"
   ]
  },
  {
   "cell_type": "code",
   "execution_count": 63,
   "metadata": {
    "execution": {
     "iopub.execute_input": "2022-05-21T09:19:14.939783Z",
     "iopub.status.busy": "2022-05-21T09:19:14.939454Z",
     "iopub.status.idle": "2022-05-21T09:19:14.945624Z",
     "shell.execute_reply": "2022-05-21T09:19:14.944928Z",
     "shell.execute_reply.started": "2022-05-21T09:19:14.939736Z"
    }
   },
   "outputs": [],
   "source": [
    "len(set(top_happy_words))"
   ]
  },
  {
   "cell_type": "code",
   "execution_count": 64,
   "metadata": {
    "execution": {
     "iopub.execute_input": "2022-05-21T09:19:28.825214Z",
     "iopub.status.busy": "2022-05-21T09:19:28.824316Z",
     "iopub.status.idle": "2022-05-21T09:19:28.831134Z",
     "shell.execute_reply": "2022-05-21T09:19:28.830136Z",
     "shell.execute_reply.started": "2022-05-21T09:19:28.825170Z"
    }
   },
   "outputs": [],
   "source": [
    "len(set(top_words2))"
   ]
  },
  {
   "cell_type": "code",
   "execution_count": 65,
   "metadata": {
    "execution": {
     "iopub.execute_input": "2022-05-21T09:21:09.484680Z",
     "iopub.status.busy": "2022-05-21T09:21:09.484303Z",
     "iopub.status.idle": "2022-05-21T09:21:09.490652Z",
     "shell.execute_reply": "2022-05-21T09:21:09.489579Z",
     "shell.execute_reply.started": "2022-05-21T09:21:09.484649Z"
    }
   },
   "outputs": [],
   "source": [
    "len(set(top_happy_words)-set(top_words2))"
   ]
  },
  {
   "cell_type": "code",
   "execution_count": 71,
   "metadata": {
    "execution": {
     "iopub.execute_input": "2022-05-21T09:25:18.197337Z",
     "iopub.status.busy": "2022-05-21T09:25:18.196515Z",
     "iopub.status.idle": "2022-05-21T09:25:18.203514Z",
     "shell.execute_reply": "2022-05-21T09:25:18.202459Z",
     "shell.execute_reply.started": "2022-05-21T09:25:18.197297Z"
    }
   },
   "outputs": [],
   "source": [
    "bad_words = set(top_words2) - set(top_happy_words)\n",
    "bad_words"
   ]
  },
  {
   "cell_type": "code",
   "execution_count": 72,
   "metadata": {
    "execution": {
     "iopub.execute_input": "2022-05-21T09:25:37.816865Z",
     "iopub.status.busy": "2022-05-21T09:25:37.816074Z",
     "iopub.status.idle": "2022-05-21T09:25:37.822292Z",
     "shell.execute_reply": "2022-05-21T09:25:37.821743Z",
     "shell.execute_reply.started": "2022-05-21T09:25:37.816822Z"
    }
   },
   "outputs": [],
   "source": [
    "good_words = set(top_happy_words) - set(top_words2)\n",
    "good_words"
   ]
  },
  {
   "cell_type": "code",
   "execution_count": 73,
   "metadata": {
    "execution": {
     "iopub.execute_input": "2022-05-21T09:25:43.109172Z",
     "iopub.status.busy": "2022-05-21T09:25:43.108718Z",
     "iopub.status.idle": "2022-05-21T09:25:43.113624Z",
     "shell.execute_reply": "2022-05-21T09:25:43.112755Z",
     "shell.execute_reply.started": "2022-05-21T09:25:43.109141Z"
    }
   },
   "outputs": [],
   "source": [
    "def show_cloud(words_collection):\n",
    "    wc = WordCloud().generate(' '.join(words_collection))\n",
    "    plt.imshow(wc, interpolation='bilinear')\n",
    "    plt.axis(\"off\")\n",
    "    plt.show()"
   ]
  },
  {
   "cell_type": "code",
   "execution_count": 74,
   "metadata": {
    "execution": {
     "iopub.execute_input": "2022-05-21T09:25:59.996600Z",
     "iopub.status.busy": "2022-05-21T09:25:59.996168Z",
     "iopub.status.idle": "2022-05-21T09:26:00.194256Z",
     "shell.execute_reply": "2022-05-21T09:26:00.193219Z",
     "shell.execute_reply.started": "2022-05-21T09:25:59.996567Z"
    }
   },
   "outputs": [],
   "source": [
    "show_cloud(bad_words)"
   ]
  },
  {
   "cell_type": "code",
   "execution_count": 75,
   "metadata": {
    "execution": {
     "iopub.execute_input": "2022-05-21T09:26:03.295906Z",
     "iopub.status.busy": "2022-05-21T09:26:03.295625Z",
     "iopub.status.idle": "2022-05-21T09:26:03.485791Z",
     "shell.execute_reply": "2022-05-21T09:26:03.484908Z",
     "shell.execute_reply.started": "2022-05-21T09:26:03.295872Z"
    }
   },
   "outputs": [],
   "source": [
    "show_cloud(good_words)"
   ]
  }
 ],
 "metadata": {
  "kernelspec": {
   "display_name": "Python 3 (ipykernel)",
   "language": "python",
   "name": "python3"
  },
  "language_info": {
   "codemirror_mode": {
    "name": "ipython",
    "version": 3
   },
   "file_extension": ".py",
   "mimetype": "text/x-python",
   "name": "python",
   "nbconvert_exporter": "python",
   "pygments_lexer": "ipython3",
   "version": "3.8.10"
  }
 },
 "nbformat": 4,
 "nbformat_minor": 4
}
