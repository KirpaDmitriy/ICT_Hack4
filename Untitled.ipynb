{
 "cells": [
  {
   "cell_type": "code",
   "execution_count": 3,
   "id": "f0c161c7",
   "metadata": {},
   "outputs": [
    {
     "data": {
      "text/plain": [
       "True"
      ]
     },
     "execution_count": 3,
     "metadata": {},
     "output_type": "execute_result"
    }
   ],
   "source": [
    "import torch\n",
    "torch.cuda.is_available()"
   ]
  },
  {
   "cell_type": "code",
   "execution_count": 2,
   "id": "3efc0a7e",
   "metadata": {},
   "outputs": [
    {
     "name": "stdout",
     "output_type": "stream",
     "text": [
      "Looking in indexes: https://pypi.org/simple, https://download.pytorch.org/whl/cu113\n",
      "Collecting torch\n",
      "  Downloading https://download.pytorch.org/whl/cu113/torch-1.11.0%2Bcu113-cp38-cp38-linux_x86_64.whl (1637.0 MB)\n",
      "\u001b[K     |████████████████████████████████| 1637.0 MB 37 kB/s /s eta 0:00:01                 | 204.7 MB 14.4 MB/s eta 0:01:40     |█████                           | 250.2 MB 3.8 MB/s eta 0:06:08         | 283.4 MB 1.7 MB/s eta 0:13:35█▉                          | 299.3 MB 14.0 MB/s eta 0:01:36██                          | 305.8 MB 14.0 MB/s eta 0:01:36     |██████                          | 311.4 MB 71.8 MB/s eta 0:00:19MB 71.8 MB/s eta 0:00:19MB 71.8 MB/s eta 0:00:19     |███████▋                        | 389.1 MB 2.0 MB/s eta 0:10:30��███▉                      | 502.3 MB 28.8 MB/s eta 0:00:40��████████▊                   | 651.2 MB 7.4 MB/s eta 0:02:148.2 MB/s eta 0:01:54    |███████████████▊                | 806.8 MB 1.7 MB/s eta 0:08:24 |████████████████▍               | 838.7 MB 6.2 MB/s eta 0:02:09     |████████████████▋               | 848.3 MB 15.0 MB/s eta 0:00:53     |█████████████████▍              | 887.9 MB 8.6 MB/s eta 0:01:28   | 999.7 MB 5.5 MB/s eta 0:01:57��██            | 1020.1 MB 1.7 MB/s eta 0:06:14██████████████▌           | 1050.0 MB 5.2 MB/s eta 0:01:52██████████████▋           | 1056.3 MB 5.2 MB/s eta 0:01:51██████████████▊           | 1059.7 MB 1.5 MB/s eta 0:06:13:01:03B 19.7 MB/s eta 0:00:27██████████████████████▊       | 1266.3 MB 6.6 MB/s eta 0:00:57��█▍      | 1298.5 MB 156.2 MB/s eta 0:00:03��█▌      | 1304.1 MB 156.2 MB/s eta 0:00:03��████████████▎     | 1341.6 MB 119.4 MB/s eta 0:00:03��██▌     | 1355.9 MB 5.3 MB/s eta 0:00:53��████████     | 1381.6 MB 56.3 MB/s eta 0:00:05��██████████████████▏    | 1388.9 MB 56.3 MB/s eta 0:00:051423.1 MB 173.0 MB/s eta 0:00:02�████████████▉    | 1425.3 MB 1.4 MB/s eta 0:02:30     |████████████████████████████▎   | 1445.5 MB 1.4 MB/s eta 0:02:15��████████████████████████▎   | 1446.9 MB 1.4 MB/s eta 0:02:14��████████████████████████▌   | 1459.9 MB 5.5 MB/s eta 0:00:32ta 0:00:01�▏  | 1491.7 MB 177.1 MB/s eta 0:00:01�█▌ | 1559.5 MB 1.7 MB/s eta 0:00:46     |███████████████████████████████▏| 1595.2 MB 929 kB/s eta 0:00:46��███████████▎| 1601.9 MB 929 kB/s eta 0:00:38��███████████▌| 1609.3 MB 929 kB/s eta 0:00:30��███████████▊| 1620.9 MB 929 kB/s eta 0:00:18█████████████████████▊| 1623.9 MB 142.6 MB/s eta 0:00:01\n",
      "\u001b[?25hCollecting torchvision\n",
      "  Downloading https://download.pytorch.org/whl/cu113/torchvision-0.12.0%2Bcu113-cp38-cp38-linux_x86_64.whl (22.3 MB)\n",
      "\u001b[K     |████████████████████████████████| 22.3 MB 1.5 MB/s eta 0:00:011\n",
      "\u001b[?25hCollecting torchaudio\n",
      "  Downloading https://download.pytorch.org/whl/cu113/torchaudio-0.11.0%2Bcu113-cp38-cp38-linux_x86_64.whl (2.9 MB)\n",
      "\u001b[K     |████████████████████████████████| 2.9 MB 2.0 MB/s eta 0:00:01\n",
      "\u001b[?25hRequirement already satisfied: typing-extensions in /home/utsx/.local/lib/python3.8/site-packages (from torch) (4.0.1)\n",
      "Requirement already satisfied: numpy in /home/utsx/.local/lib/python3.8/site-packages (from torchvision) (1.22.2)\n",
      "Requirement already satisfied: pillow!=8.3.*,>=5.3.0 in /home/utsx/.local/lib/python3.8/site-packages (from torchvision) (9.0.1)\n",
      "Requirement already satisfied: requests in /usr/lib/python3/dist-packages (from torchvision) (2.22.0)\n",
      "Installing collected packages: torch, torchvision, torchaudio\n",
      "Successfully installed torch-1.11.0+cu113 torchaudio-0.11.0+cu113 torchvision-0.12.0+cu113\n"
     ]
    }
   ],
   "source": [
    "! pip3 install torch torchvision torchaudio --extra-index-url https://download.pytorch.org/whl/cu113"
   ]
  },
  {
   "cell_type": "code",
   "execution_count": null,
   "id": "3c2c9056",
   "metadata": {},
   "outputs": [],
   "source": []
  }
 ],
 "metadata": {
  "kernelspec": {
   "display_name": "Python 3 (ipykernel)",
   "language": "python",
   "name": "python3"
  },
  "language_info": {
   "codemirror_mode": {
    "name": "ipython",
    "version": 3
   },
   "file_extension": ".py",
   "mimetype": "text/x-python",
   "name": "python",
   "nbconvert_exporter": "python",
   "pygments_lexer": "ipython3",
   "version": "3.8.10"
  }
 },
 "nbformat": 4,
 "nbformat_minor": 5
}
